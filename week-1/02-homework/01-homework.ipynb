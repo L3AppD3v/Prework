{
  "cells": [
    {
      "cell_type": "markdown",
      "id": "4eb1f2da-1be9-465f-a23c-ee807b9fce39",
      "metadata": {
        "id": "4eb1f2da-1be9-465f-a23c-ee807b9fce39"
      },
      "source": [
        "# Homework 1: Learning to Code"
      ]
    },
    {
      "cell_type": "markdown",
      "id": "eb8de40c-e3cf-40ab-9420-ea90d78011f7",
      "metadata": {
        "id": "eb8de40c-e3cf-40ab-9420-ea90d78011f7"
      },
      "source": [
        "## **Submission Guidelines**"
      ]
    },
    {
      "cell_type": "markdown",
      "id": "48c42e3d-5a43-4cf3-a95d-d72495bca344",
      "metadata": {
        "id": "48c42e3d-5a43-4cf3-a95d-d72495bca344"
      },
      "source": [
        "* Focus on completing Exercises 1, 2 and 3. Exercises 4 and 5 are _stretch challenges_.\n",
        "* Submit your work as a single Python file (__`.py`__) or a Jupyter Notebook (__`.ipynb`__).\n",
        "* Clearly label each exercise and include comments to explain your logic."
      ]
    },
    {
      "cell_type": "markdown",
      "id": "b6652965-0fa6-44d8-90cb-cda2d452f10b",
      "metadata": {
        "id": "b6652965-0fa6-44d8-90cb-cda2d452f10b"
      },
      "source": [
        "### Exercise 1: Algorithms\n",
        "For each of the problems below, write an algorithm (**in English**) to explain how to solve the problem. Think about whether another person can perform the task based on the steps you wrote down, without consulting you. If so, you're done.\n",
        "1. **Vote Eligibility** Given an age, determine if the person is eligible to vote\n",
        "1. **Tip Computation** Compute the tip at a restaurant\n",
        "1. **Layaway Computation** Given a total price, and a number of months, compute the cost per month to buy the item on \"lawaway\" (i.e., the buyer pays for a portion of the cost each month until it is paid off, and then the buyer takes possession of them item). Assume no interest is added, so that the buyer just pays the total amount, split over some number of months."
      ]
    },
    {
      "cell_type": "code",
      "execution_count": null,
      "id": "8e68ae40",
      "metadata": {
        "id": "8e68ae40"
      },
      "outputs": [],
      "source": [
        "# Exercise 1\n",
        "1)\n",
        "1. Ask for person’s age and remember it\n",
        "2. Look at age\n",
        "- If the age is above or equal to 18, yes they are eligible to vote\n",
        "- If the age is under 18, no they are not eligible to vote\n",
        "2)\n",
        "1. Look at total and remember it\n",
        "2. Choose a percentage of the total you want to tip\n",
        "3. Move the decimal of the percentage you chose two places to the left\n",
        "4. Multiply the total by the decimal number to get the tip\n",
        "3)\n",
        "1. Remember the total price and number of months\n",
        "2. Divide the total price by the number of months and that’s the cost per month\n"
      ]
    },
    {
      "cell_type": "markdown",
      "id": "e8086ec2-ae62-43fc-8541-2d4c51780ec1",
      "metadata": {
        "id": "e8086ec2-ae62-43fc-8541-2d4c51780ec1"
      },
      "source": [
        "### Exercise 2: More Algorithms\n",
        "1. **Calculate Seconds** Given a number of hours and a number of minutes, compute the total number of seconds (e.g., 2 hours and 38 minutes is 9480 seconds)\n",
        "1. **Count Vowels** Given a sentence, count the number of vowels (a, e, i, o, u) in that sentence\n",
        "1. **Find the Largest Number** Given a list of numbers, determine the largest number in the list"
      ]
    },
    {
      "cell_type": "code",
      "execution_count": null,
      "id": "a10e855c-7cf3-4785-a8a8-a58916ef4670",
      "metadata": {
        "id": "a10e855c-7cf3-4785-a8a8-a58916ef4670"
      },
      "outputs": [],
      "source": [
        "# Exercise 2\n",
        "1)\n",
        "1. Multiply the number of hours by 60 and remember that number\n",
        "2. Add that number to the number of minutes and remember it as the total minutes\n",
        "3. Multiply the total minutes by 60 and that's the total number of seconds\n",
        "2)\n",
        "1. Look at the sentence\n",
        "2. Look for every a, e, i, o, u letter in the sentence\n",
        "3. Count every a, e, i, o, u letter in the sentence even if it was used before\n"
      ]
    },
    {
      "cell_type": "markdown",
      "id": "1e13952c-7049-4d2d-bf2f-cfb11ec3126b",
      "metadata": {
        "id": "1e13952c-7049-4d2d-bf2f-cfb11ec3126b"
      },
      "source": [
        "### Exercise 3: Even More Algorithms\n",
        "1. **Palidrome** Determine whether a word is a palindrome, i.e., the same backwards or forwards (e.g., __civic__, __noon__, __kayak__, __level__, __racecar__)\n",
        "1. **Sort a List** Describe the steps required to arrange a list of numbers in ascending order (e.g., _3, 1, 7, 8, 4, 11, 9, 0_ → _0, 1, 3, 4, 7, 8, 9, 11_"
      ]
    },
    {
      "cell_type": "code",
      "execution_count": null,
      "id": "0856dd77-5fe1-40bc-b11b-d6a63ce43528",
      "metadata": {
        "id": "0856dd77-5fe1-40bc-b11b-d6a63ce43528"
      },
      "outputs": [],
      "source": [
        "# Exercise 3\n",
        "1)\n",
        "1. Look at first and last letter in the word and ensure they are the same\n",
        "2. Look at the second to first and second to last letter and ensure they are the same\n",
        "3. Repeat this pattern by moving toward the middle of the word one letter at a time until you’ve checked every letter or one single letter remains\n",
        "- If any pair of letters don’t match, the word is not a palindrome\n",
        "- If every pair of letters match, the word is a palindrome\n",
        "2)\n",
        "1. Start at first number\n",
        "2. look at number\n",
        "- If the number to the right is bigger, leave both numbers where they are\n",
        "- If the number to the right is smaller, move it to the left of the number you’re on\n",
        "3. Repeat step 2 with every number in the list until you reach the last number\n",
        "4. Repeat steps 1-3 until you pass through every number in the list without moving any numbers\n"
      ]
    },
    {
      "cell_type": "markdown",
      "id": "0f5cb9cc-0bde-4fa5-b3a2-84cdbbd17d4b",
      "metadata": {
        "id": "0f5cb9cc-0bde-4fa5-b3a2-84cdbbd17d4b"
      },
      "source": [
        "### Exercise 4: Try some famous algorithms by hand (more difficult)\n",
        "Let's change it up a bit. Instead of writing the algorithms, try out some algorithms by hand, here in the notebook or on paper.\n",
        "1. **Kaprekar's Constant** The number 6174 is known as [Kaprekar's Constant](https://en.wikipedia.org/wiki/6174). Apply the following algorithm to any four-digit number (where all digits are not the same) and you will eventually get to 6174, Kaprekar's Constant:\n",
        "    1. Select any four-digit number which has at least two different digits (leading zeros are allowed)\n",
        "    1. Create two new four-digit numbers by arranging the original digits in  ascending and descending order (adding leading zeros if necessary)\n",
        "    1. Subtract the smaller number from the bigger number\n",
        "    1. If the result is not 6174, return to step 2 and repeat\n",
        "1. **[Collatz Conjecture](https://en.wikipedia.org/wiki/Collatz_conjecture)** This is  a famous unsolved problem in mathematics. We won't try to prove it (no one has been able to prove it for almost 100 years), but instead, we will follow the steps for a few example numbers:\n",
        "    1. start with any integer greater than 1\n",
        "    1. if the number is even, divide it by 2\n",
        "    1. if the number is odd, multiply it by 3 and add 1\n",
        "    1. keep doing the above two steps, you'll eventually end up with 1\n",
        "    1. try it with the numbers 5, 24, and 33"
      ]
    },
    {
      "cell_type": "code",
      "execution_count": null,
      "id": "440cb580",
      "metadata": {
        "id": "440cb580"
      },
      "outputs": [],
      "source": [
        "# Exercise 4\n",
        "1)\n",
        "1. 4343, 2. 3344 4433, 3. 1089\n",
        "1. 1089, 2. 0189 9810, 3. 9621\n",
        "1. 9621, 2. 1269 9621, 3. 8352\n",
        "1. 8352, 2. 2358 8532, 4. 6174\n",
        "\n",
        "2)\n",
        "1. 6, 2. 3\n",
        "1. 3, 3. 10\n",
        "1. 10, 2. 5\n",
        "1. 5, 3. 16\n",
        "1. 16, 2. 8\n",
        "1. 8, 2. 4\n",
        "1. 4, 2. 1\n",
        "\n",
        "1. 5, 3. 16\n",
        "1. 16, 2. 8\n",
        "1. 8, 2. 4\n",
        "1. 4, 2. 1\n",
        "\n",
        "1. 24, 2. 12\n",
        "1. 12, 2. 6\n",
        "1. 6, 2. 3\n",
        "1. 3, 3. 10\n",
        "1. 10, 2. 5\n",
        "1. 5, 3. 16\n",
        "1. 16, 2. 8\n",
        "1. 8, 2. 4\n",
        "1. 4, 2. 1"
      ]
    },
    {
      "cell_type": "markdown",
      "id": "b22d131f-e827-4e9c-a770-ca4bfd8fe41d",
      "metadata": {
        "id": "b22d131f-e827-4e9c-a770-ca4bfd8fe41d"
      },
      "source": [
        "### Exercise 5: Algorithms (more difficult)\n",
        "For each of the problems below, write an algorithm (in English) to explain how to solve the problem. Think about whether another person can perform the task based on the steps you wrote down, without consulting you. If so, you're done.\n",
        "1. **Prime Number** determine whether an integer is a prime number or not (a number is prime if it's only divisible by 1 and itself)\n",
        "2. **Pangram** determine whether a sentence is a pangram (a pangram is a sentence or verse that contains all the letters of the alphabet), e.g., these are all pangrams\n",
        "   * _The wizard quickly jinxed the gnomes before they vaporized_\n",
        "   * _How vexingly quick daft zebras jump_\n",
        "   * _Five or six big jet planes zoomed quickly by the tower_\n",
        "   * _Pack my box with five dozen liquor jugs_\n",
        "3. **Anagrams** check if two words are anagrams of each other, that is, they contain the same letters in a differet order (e.g., \"silent\" and \"listen\")\n",
        "4. **Compress a String** implement basic text compression where repeated characters are replaced with counts (e.g., \"aabcccccaaa\" → \"a2b1c5a3\")\n",
        "1. **Happy Numbers** determine if a number is a _happy number_ (a happy number is a number which eventually reaches 1 when replaced by the sum of the square of each digit–e.g., 13 is a happy number because 1<sup>2</sup> + 3<sup>2</sup> = 10, and 1<sup>2</sup> + 0<sup>2</sup> = 1)"
      ]
    },
    {
      "cell_type": "code",
      "execution_count": null,
      "id": "54cd1b30-4c2f-4eca-b6ce-1eb2fc2043bb",
      "metadata": {
        "id": "54cd1b30-4c2f-4eca-b6ce-1eb2fc2043bb"
      },
      "outputs": [],
      "source": [
        "# Exercise 5\n",
        "1)\n",
        "1. divide the integer by every number starting from 1 up to and including the integer itself\n",
        "- if any number besides 1 or the integer itself gets a whole number quotient, the number is not prime\n",
        "- if no number besides 1 or the integer itself gets a whole number quotient, the number is prime\n",
        "2)\n",
        "1. go through each letter in the alphabet in order from the first letter up to and including the last\n",
        "2. search for each of these letters in the sentence one by one\n",
        "- if the letter isn't in the sentence, the sentence is not a pangram\n",
        "3. if you make it through every letter in the alphabet with none missing from the sentence, the sentence is a pangram\n",
        "3)\n",
        "1. pick one word\n",
        "2. starting from the first letter up to and including the last, check each letter in the word you chose is in the other word\n",
        "- if the number of times one letter is in one word doesn't match other, the words are not anagrams\n",
        "- if there are letters in one word that don't exist in the other, the words are not anagrams\n",
        "- if the above conditions aren't applicable, the words are anagrams\n",
        "4)\n",
        "1. starting from the first character in the string up to and including the last one, count how many different characters there are\n",
        "2. for each distinct character you find count how many times the same character is repeated in the string and remember both\n",
        "3. in order of appearance in the string, write each distinct character and the number of times they're repeated to the right\n",
        "5)\n",
        "1. start with your number\n",
        "2. create an empty list of numbers you've already seen\n",
        "3. add current number to list of seen numbers\n",
        "4. add up all the squares of each of the current number's digits and remember the total\n",
        "- if the total is in the list of seen numbers, the number isn't happy\n",
        "- if the total is not in the list of seen numbers, make it your current number and repeat steps 3-4\n",
        "- if the total is 1, the number is happy"
      ]
    }
  ],
  "metadata": {
    "kernelspec": {
      "display_name": "Python 3 (ipykernel)",
      "language": "python",
      "name": "python3"
    },
    "language_info": {
      "codemirror_mode": {
        "name": "ipython",
        "version": 3
      },
      "file_extension": ".py",
      "mimetype": "text/x-python",
      "name": "python",
      "nbconvert_exporter": "python",
      "pygments_lexer": "ipython3",
      "version": "3.13.1"
    },
    "colab": {
      "provenance": []
    }
  },
  "nbformat": 4,
  "nbformat_minor": 5
}