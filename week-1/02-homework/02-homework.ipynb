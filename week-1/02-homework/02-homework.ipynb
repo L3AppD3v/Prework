{
  "cells": [
    {
      "cell_type": "markdown",
      "id": "76639b6d-da73-4e1e-8aaa-0070a2403485",
      "metadata": {
        "id": "76639b6d-da73-4e1e-8aaa-0070a2403485"
      },
      "source": [
        "# Homework 2: Variables and Boolean Expressions\n",
        "\n",
        "## **Submission Guidelines**\n",
        "* Focus on completing Exercises 1-4. Exercise 5 is a _stretch challenge_.\n",
        "* Submit your work as a single Python file (__`.py`__) or a Jupyter Notebook (__`.ipynb`__).\n",
        "* Clearly label each exercise and include comments to explain your logic.\n",
        "\n",
        "## Instructions\n",
        "\n",
        "Complete the following exercises in a single Python file or Jupyter Notebook. Clearly label each exercise and when needed, include comments explaining your logic. Focus on completing Exercise 1 through 4. Exercise 5 is a _stretch challenge_."
      ]
    },
    {
      "cell_type": "markdown",
      "id": "1b3cec93-6b5b-4d78-81ab-17ab17b75a25",
      "metadata": {
        "id": "1b3cec93-6b5b-4d78-81ab-17ab17b75a25"
      },
      "source": [
        "### Exercise 1: Variables\n",
        "* Each scenario below describes some data to be manipulated by your code. Choose appropriate variable names (and values) and create variables/expressions for these scenarios.\n",
        "  "
      ]
    },
    {
      "cell_type": "markdown",
      "id": "8a3f8bb8-024e-4645-b633-356db225d206",
      "metadata": {
        "id": "8a3f8bb8-024e-4645-b633-356db225d206"
      },
      "source": [
        "1. Determine the cost of some number of pounds of cement. Assume there is a sales tax that applies.\n",
        "  "
      ]
    },
    {
      "cell_type": "code",
      "execution_count": 1,
      "id": "d0fe743d-1acd-41a8-a0b9-92aedc8fc0a4",
      "metadata": {
        "id": "d0fe743d-1acd-41a8-a0b9-92aedc8fc0a4",
        "outputId": "d5d2bdb4-a9e2-4248-d0e8-946852c7b7fe",
        "colab": {
          "base_uri": "https://localhost:8080/"
        }
      },
      "outputs": [
        {
          "output_type": "stream",
          "name": "stdout",
          "text": [
            "93.6\n"
          ]
        }
      ],
      "source": [
        "# Exercise 1 - Part 1\n",
        "cement_pound = 0.3\n",
        "total_pounds = 300\n",
        "sales_tax = 0.04\n",
        "\n",
        "cost = cement_pound * total_pounds\n",
        "tax = cost * sales_tax\n",
        "total_cost = cost + tax\n",
        "print(total_cost)\n"
      ]
    },
    {
      "cell_type": "markdown",
      "id": "b1aa5351-43b1-401f-b15a-ecff2d4c393b",
      "metadata": {
        "id": "b1aa5351-43b1-401f-b15a-ecff2d4c393b"
      },
      "source": [
        "2. Given the cost of various containers of eggs (perhaps half a dozen, one dozen, and 1 1/2 dozen), determine the cost _per egg_ for each of those containers.\n",
        "  "
      ]
    },
    {
      "cell_type": "code",
      "execution_count": 6,
      "id": "e757836e-1848-434f-9301-d41470770f49",
      "metadata": {
        "id": "e757836e-1848-434f-9301-d41470770f49",
        "outputId": "6c15be01-2837-46f6-c55b-064b11cde748",
        "colab": {
          "base_uri": "https://localhost:8080/"
        }
      },
      "outputs": [
        {
          "output_type": "stream",
          "name": "stdout",
          "text": [
            "The cost per egg for half a dozen is  0.4166666666666667\n",
            "The cost per egg for a dozen is  0.4166666666666667\n",
            "The cost per egg for a dozen and a half is  0.4166666666666667\n"
          ]
        }
      ],
      "source": [
        "# Exercise 1 - Part 2\n",
        "half_dozen = 2.5\n",
        "dozen = 5\n",
        "one_half_dozen = 7.5\n",
        "\n",
        "cost_egg = half_dozen / 6.00\n",
        "print('The cost per egg for half a dozen is ',cost_egg)\n",
        "\n",
        "cost_egg = dozen / 12.00\n",
        "print('The cost per egg for a dozen is ',cost_egg)\n",
        "\n",
        "cost_egg = one_half_dozen / 18.00\n",
        "print('The cost per egg for a dozen and a half is ',cost_egg)"
      ]
    },
    {
      "cell_type": "markdown",
      "id": "192dfb2f-790e-4725-b201-3b803f4fc348",
      "metadata": {
        "id": "192dfb2f-790e-4725-b201-3b803f4fc348"
      },
      "source": [
        "3. Given an hourly wage and a number of hours worked, determine how much a worker should be paid for shoveling snow."
      ]
    },
    {
      "cell_type": "code",
      "execution_count": 8,
      "id": "9f098469-0470-4a68-ba73-721bd6526c2c",
      "metadata": {
        "id": "9f098469-0470-4a68-ba73-721bd6526c2c",
        "outputId": "1e238638-9906-4f27-9256-b883141e38e3",
        "colab": {
          "base_uri": "https://localhost:8080/"
        }
      },
      "outputs": [
        {
          "output_type": "stream",
          "name": "stdout",
          "text": [
            "The worker should be paid $ 720\n"
          ]
        }
      ],
      "source": [
        "# Exercise 1 - Part 3\n",
        "hourly_wage = 18\n",
        "hours_worked = 40\n",
        "pay = hourly_wage * hours_worked\n",
        "print('The worker should be paid $',pay)"
      ]
    },
    {
      "cell_type": "markdown",
      "id": "3a702132-7720-45b3-97d6-6dc7d4fc1113",
      "metadata": {
        "id": "3a702132-7720-45b3-97d6-6dc7d4fc1113"
      },
      "source": [
        "### Exercise 2: Boolean Expressions\n",
        "* Each scenario below describes some data to be manipulated by your code. Choose appropriate variable names (and values) and create Boolean expressions for these scenarios.\n",
        "  "
      ]
    },
    {
      "cell_type": "markdown",
      "id": "192e9f66-c2a7-4933-beaa-4666f57ac042",
      "metadata": {
        "id": "192e9f66-c2a7-4933-beaa-4666f57ac042"
      },
      "source": [
        "1. Given the number of hours worked in a week, determine whether the employee will receive any overtime pay.\n",
        "  "
      ]
    },
    {
      "cell_type": "code",
      "execution_count": 9,
      "id": "d99bbc14-4ab9-4cc2-abf4-0f847d4aa95c",
      "metadata": {
        "id": "d99bbc14-4ab9-4cc2-abf4-0f847d4aa95c",
        "outputId": "973f54d2-e780-46f2-e01b-98b725287fb3",
        "colab": {
          "base_uri": "https://localhost:8080/"
        }
      },
      "outputs": [
        {
          "output_type": "stream",
          "name": "stdout",
          "text": [
            "Employee will not recieve overtime pay.\n"
          ]
        }
      ],
      "source": [
        "# Exercise 2 - Part 1\n",
        "employee_hours = 20\n",
        "if employee_hours > 40:\n",
        "  print('Employee will receive overtime pay.')\n",
        "else:\n",
        "  print('Employee will not recieve overtime pay.')"
      ]
    },
    {
      "cell_type": "markdown",
      "id": "39e3ed1b-b146-4653-a011-05cc34913574",
      "metadata": {
        "id": "39e3ed1b-b146-4653-a011-05cc34913574"
      },
      "source": [
        "2. Determine whether someone else's name is the same as your name.\n",
        "  "
      ]
    },
    {
      "cell_type": "code",
      "execution_count": 10,
      "id": "99c07417-eb54-44db-8fdf-d890b0f48892",
      "metadata": {
        "id": "99c07417-eb54-44db-8fdf-d890b0f48892",
        "outputId": "b35485ef-fba5-4826-eedb-85f6f8b1bda5",
        "colab": {
          "base_uri": "https://localhost:8080/"
        }
      },
      "outputs": [
        {
          "output_type": "stream",
          "name": "stdout",
          "text": [
            "Y'all still twins ayeee\n"
          ]
        }
      ],
      "source": [
        "# Exercise 2 - Part 2\n",
        "my_name = 'Ash'\n",
        "other_name = 'Astrid'\n",
        "if my_name == other_name:\n",
        "  print('how')\n",
        "else:\n",
        "  print(\"Y'all still twins ayeee\")"
      ]
    },
    {
      "cell_type": "markdown",
      "id": "906a7a13-ae3e-4369-8853-a970d326c03e",
      "metadata": {
        "id": "906a7a13-ae3e-4369-8853-a970d326c03e"
      },
      "source": [
        "3. Determine whether the number of consecutive days of rain is at least 3"
      ]
    },
    {
      "cell_type": "code",
      "execution_count": 13,
      "id": "490fd285-10c5-4d98-8bb5-fde0566e6064",
      "metadata": {
        "id": "490fd285-10c5-4d98-8bb5-fde0566e6064",
        "outputId": "0a2426aa-d7b2-4d73-f609-d9e7f268cecf",
        "colab": {
          "base_uri": "https://localhost:8080/"
        }
      },
      "outputs": [
        {
          "output_type": "stream",
          "name": "stdout",
          "text": [
            "We are chillaxing\n"
          ]
        }
      ],
      "source": [
        "# Exercise 2 - Part 3\n",
        "consecutive_daysofrain = 2\n",
        "if consecutive_daysofrain > 7:\n",
        "  print(\"We're going to float away aaaaa\")\n",
        "else:\n",
        "  print('We are chillaxing')"
      ]
    },
    {
      "cell_type": "markdown",
      "id": "6901b93f-56e3-4400-9acb-cee75d015682",
      "metadata": {
        "id": "6901b93f-56e3-4400-9acb-cee75d015682"
      },
      "source": [
        "### Exercise 3: Pseudocode\n",
        "* Turn the following bits of pseudocode into __`if`__ statements\n",
        "  "
      ]
    },
    {
      "cell_type": "markdown",
      "id": "9dfa5f07-9053-4497-ab09-a2dd4d4445f1",
      "metadata": {
        "id": "9dfa5f07-9053-4497-ab09-a2dd4d4445f1"
      },
      "source": [
        "1. Output a warning if the person's name is empty"
      ]
    },
    {
      "cell_type": "markdown",
      "id": "a3f4e55f-8d45-4fef-bfe2-a754e694872e",
      "metadata": {
        "id": "a3f4e55f-8d45-4fef-bfe2-a754e694872e"
      },
      "source": [
        "3. BMI can be calculated as 703 times weight in pounds, divided by height in inches squared. Output \"Healthy BMI\" if the calculated BMI is below 25."
      ]
    },
    {
      "cell_type": "markdown",
      "id": "8f66564d-86cf-4141-be27-fe41a0145695",
      "metadata": {
        "id": "8f66564d-86cf-4141-be27-fe41a0145695"
      },
      "source": [
        "2. Turn on the fuel warning light when the number of gallons remaining is less than 1.5"
      ]
    },
    {
      "cell_type": "code",
      "execution_count": 22,
      "id": "bad43ae1",
      "metadata": {
        "id": "bad43ae1",
        "outputId": "b436137f-9e55-40d5-f035-b84cf14e238e",
        "colab": {
          "base_uri": "https://localhost:8080/"
        }
      },
      "outputs": [
        {
          "output_type": "stream",
          "name": "stdout",
          "text": [
            "WARNING! EMPTY NAME!\n",
            "awkward\n",
            "Keep driving :) Have fun :)\n"
          ]
        }
      ],
      "source": [
        "# Exercise 3\n",
        "#question 1\n",
        "person = ' '\n",
        "if person == ' ':\n",
        "  print('WARNING! EMPTY NAME!')\n",
        "\n",
        "#question 3\n",
        "weight = 148\n",
        "height = 64\n",
        "BMI = (703 * weight) / (height ** 2)\n",
        "if BMI < 25:\n",
        "  print('Healthy BMI')\n",
        "else:\n",
        "  print('awkward')\n",
        "\n",
        "#question 2\n",
        "gallons = 3\n",
        "if gallons < 1.5:\n",
        "  print('FUEL WARNING LIGHT!!!')\n",
        "else:\n",
        "  print('Keep driving :) Have fun :)')"
      ]
    },
    {
      "cell_type": "markdown",
      "id": "2c55859e-fa56-4690-a8a6-70b73e1249fc",
      "metadata": {
        "id": "2c55859e-fa56-4690-a8a6-70b73e1249fc"
      },
      "source": [
        "### Exercise 4: if statements\n",
        "* Explain what each of the following __`if`__ statements is doing/asking"
      ]
    },
    {
      "cell_type": "code",
      "execution_count": 23,
      "id": "e282eb92-7ac0-47c8-9ee6-6311d7832a39",
      "metadata": {
        "id": "e282eb92-7ac0-47c8-9ee6-6311d7832a39",
        "outputId": "a41b6a46-1282-48b6-ece3-cbc142b4583c",
        "colab": {
          "base_uri": "https://localhost:8080/"
        }
      },
      "outputs": [
        {
          "output_type": "stream",
          "name": "stdout",
          "text": [
            "...\n"
          ]
        }
      ],
      "source": [
        "feet = 4\n",
        "inches = 8\n",
        "\n",
        "if feet * 12 + inches >= 56:\n",
        "    print('...')"
      ]
    },
    {
      "cell_type": "code",
      "execution_count": null,
      "id": "a403c893-6b7e-4497-9e44-14e1ca773181",
      "metadata": {
        "id": "a403c893-6b7e-4497-9e44-14e1ca773181"
      },
      "outputs": [],
      "source": [
        "# Exercise 4 - Part 1\n",
        "# the if statement is turning the feet and inches into total number of inches\n",
        "#if the (what i assume is) height of someone is above or equal to 56 inches it outputs ..."
      ]
    },
    {
      "cell_type": "code",
      "execution_count": 24,
      "id": "d20594b7-6e22-49c9-af84-59f842357bc4",
      "metadata": {
        "id": "d20594b7-6e22-49c9-af84-59f842357bc4",
        "outputId": "b01654b2-b467-4598-e7aa-4219439c19e8",
        "colab": {
          "base_uri": "https://localhost:8080/"
        }
      },
      "outputs": [
        {
          "output_type": "stream",
          "name": "stdout",
          "text": [
            "9\n",
            "4\n"
          ]
        }
      ],
      "source": [
        "hours = 220\n",
        "days = 0\n",
        "\n",
        "if hours > 23:\n",
        "    days = hours // 24\n",
        "    print(days)\n",
        "\n",
        "print(hours - days * 24)"
      ]
    },
    {
      "cell_type": "code",
      "execution_count": null,
      "id": "64dac05b-d423-448f-8369-6f0f6b0cb9c3",
      "metadata": {
        "id": "64dac05b-d423-448f-8369-6f0f6b0cb9c3"
      },
      "outputs": [],
      "source": [
        "# Exercise 4 - Part 2\n",
        "# the if statement sees how many days are in the set of hours and outputs the days\n",
        "#the statement after outputs the remaining hours after excluding the days"
      ]
    },
    {
      "cell_type": "code",
      "execution_count": 25,
      "id": "6b8c21b4-3a09-435d-a36c-0bde2fea31ad",
      "metadata": {
        "id": "6b8c21b4-3a09-435d-a36c-0bde2fea31ad",
        "outputId": "4bd05834-0e21-4636-b5c6-9395d46ff643",
        "colab": {
          "base_uri": "https://localhost:8080/"
        }
      },
      "outputs": [
        {
          "output_type": "stream",
          "name": "stdout",
          "text": [
            "3 dozen\n",
            "plus 9\n"
          ]
        }
      ],
      "source": [
        "eggs = 45\n",
        "\n",
        "if eggs >= 12:\n",
        "    print(eggs // 12, 'dozen')\n",
        "\n",
        "print('plus', eggs - (eggs // 12) * 12)"
      ]
    },
    {
      "cell_type": "code",
      "execution_count": null,
      "id": "23dee90b-6807-4ca7-8a3b-77a58c21217f",
      "metadata": {
        "id": "23dee90b-6807-4ca7-8a3b-77a58c21217f"
      },
      "outputs": [],
      "source": [
        "# Exercise 4 - Part 3\n",
        "# the if statement sees how many dozens are in the total number of eggs and outputs the amount of dozens\n",
        "#the statement after output the remaining eggs after excluding the dozens"
      ]
    },
    {
      "cell_type": "markdown",
      "id": "b0196bce-78f4-489f-8209-0e4d0eb601b9",
      "metadata": {
        "id": "b0196bce-78f4-489f-8209-0e4d0eb601b9"
      },
      "source": [
        "### Exercise 5: if statements\n",
        "1. Turn the following English description of a problem (steps) into pseudocode. Not that where you see \"find out\" below, you can either assume the value will be in a variable, or you can get input from the user. Remember this is pseudocode you are writing, so even though we haven't learned how to get input from the user, you could specify that action in your pseudocode.\n",
        "\n",
        "    1. find out how many people are in their party\n",
        "    1. find out the start time of the movie they want to see\n",
        "    1. find out how many seniors (62 and older) are in their party\n",
        "    1. find out how many students are in their party\n",
        "    1. the price of their tickets will be $10 each for movies that start after 4:30 pm and $7.50 for movies that start before 4:30 pm\n",
        "    1. seniors (62 and older) receive a 50% discount on the ticket price\n",
        "    1. students received a 25% discount on the ticket price\n",
        "    1. a group of 10 or more paid at the same time saves $1 per ticket, on top of any other discounts\n",
        "\n",
        "1. Now turn your pseudocode into working Python code. Again, we haven't learned how to get input from the user but could also look it up or you could set variables with various values and ensure the result is correct."
      ]
    },
    {
      "cell_type": "code",
      "execution_count": null,
      "id": "c6738a10-12ad-410a-8b16-b1b8a517cece",
      "metadata": {
        "id": "c6738a10-12ad-410a-8b16-b1b8a517cece"
      },
      "outputs": [],
      "source": []
    }
  ],
  "metadata": {
    "kernelspec": {
      "display_name": "Python 3 (ipykernel)",
      "language": "python",
      "name": "python3"
    },
    "language_info": {
      "codemirror_mode": {
        "name": "ipython",
        "version": 3
      },
      "file_extension": ".py",
      "mimetype": "text/x-python",
      "name": "python",
      "nbconvert_exporter": "python",
      "pygments_lexer": "ipython3",
      "version": "3.13.1"
    },
    "colab": {
      "provenance": []
    }
  },
  "nbformat": 4,
  "nbformat_minor": 5
}